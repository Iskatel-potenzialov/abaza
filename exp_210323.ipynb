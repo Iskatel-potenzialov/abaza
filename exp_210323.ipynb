{
  "cells": [
    {
      "cell_type": "markdown",
      "metadata": {
        "id": "view-in-github",
        "colab_type": "text"
      },
      "source": [
        "<a href=\"https://colab.research.google.com/github/Iskatel-potenzialov/abaza/blob/main/exp_210323.ipynb\" target=\"_parent\"><img src=\"https://colab.research.google.com/assets/colab-badge.svg\" alt=\"Open In Colab\"/></a>"
      ]
    },
    {
      "cell_type": "code",
      "execution_count": null,
      "metadata": {
        "id": "_IngKJue9CGe"
      },
      "outputs": [],
      "source": [
        "code = '''\n",
        "import streamlit as st\n",
        "import matplotlib.pyplot as plt\n",
        "import numpy as np\n",
        "import pandas as pd\n",
        "\n",
        "arr = np.random.normal(1, 1, size=100)\n",
        "\n",
        "options = st.sidebar.multiselect(\n",
        "      'Как отфильтровать значения?',\n",
        "      ['>0', '<0', 'Все'],\n",
        "      ['Все'])\n",
        "try:\n",
        "    if options[0] == 'Все':\n",
        "        mask = arr == arr\n",
        "    elif options[0] == '>0':\n",
        "        mask = arr > 0\n",
        "    else:\n",
        "        mask = arr < 0\n",
        "    \n",
        "    df = pd.DataFrame(arr[mask])\n",
        "\n",
        "except:\n",
        "    df = pd.DataFrame(arr)\n",
        "\n",
        "st.write(df)\n",
        "'''\n",
        "\n",
        "with open('helloworld.py', 'w') as f:\n",
        "  f.write(code)"
      ]
    },
    {
      "cell_type": "code",
      "execution_count": null,
      "metadata": {
        "id": "SZ_9XVPlMXX1"
      },
      "outputs": [],
      "source": [
        "# Создание модели последовательной архитектуры\n",
        "model = Sequential()\n",
        "model.add(BatchNormalization())\n",
        "model.add(Dense(512, input_dim=18, activation='relu')) # из реалити табличного\n",
        "model.add(BatchNormalization())\n",
        "model.add(Dropout(.2))\n",
        "model.add(Dense(1024, activation='relu'))\n",
        "model.add(Dense(1024, activation='relu'))\n",
        "model.add(Dense(1024, activation='relu'))\n",
        "model.add(Dense(1024, activation='relu'))\n",
        "model.add(Dense(1024, activation='relu'))\n",
        "model.add(Dense(1024, activation='relu'))\n",
        "model.add(Dense(1024, activation='relu'))\n",
        "model.add(Dense(1024, activation='relu'))\n",
        "model.add(Dense(1024, activation='relu'))\n",
        "model.add(Dense(1024, activation='relu'))\n",
        "model.add(Dense(512, activation='relu'))\n",
        "#model.add(Dense(1, activation='sigmoid'))\n",
        "model.add(Dense(2, activation='softmax'))"
      ]
    }
  ],
  "metadata": {
    "accelerator": "GPU",
    "colab": {
      "provenance": [],
      "include_colab_link": true
    },
    "kernelspec": {
      "display_name": "Python 3",
      "name": "python3"
    },
    "language_info": {
      "name": "python"
    }
  },
  "nbformat": 4,
  "nbformat_minor": 0
}